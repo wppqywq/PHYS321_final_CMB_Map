{
 "cells": [
  {
   "cell_type": "code",
   "execution_count": 2,
   "metadata": {},
   "outputs": [],
   "source": [
    "import pypico"
   ]
  },
  {
   "cell_type": "code",
   "execution_count": 4,
   "metadata": {},
   "outputs": [],
   "source": [
    "pico = pypico.load_pico(\"/Users/yy/git/my_PHYS321_final/data/pico4_tailmonty_v35_py3.dat\") \n",
    "# Note i didn't upload the data file to github as it's too large\n",
    "# change to your own path to see data"
   ]
  },
  {
   "cell_type": "code",
   "execution_count": 5,
   "metadata": {},
   "outputs": [
    {
     "data": {
      "text/plain": [
       "{'Alens',\n",
       " 'helium_fraction',\n",
       " 'massive_neutrinos',\n",
       " 'ombh2',\n",
       " 'omch2',\n",
       " 'omnuh2',\n",
       " 'pivot_scalar',\n",
       " 're_optical_depth',\n",
       " 'scalar_amp(1)',\n",
       " 'scalar_nrun(1)',\n",
       " 'scalar_spectral_index(1)',\n",
       " 'theta'}"
      ]
     },
     "execution_count": 5,
     "metadata": {},
     "output_type": "execute_result"
    }
   ],
   "source": [
    "pico.inputs()"
   ]
  },
  {
   "cell_type": "code",
   "execution_count": 6,
   "metadata": {},
   "outputs": [
    {
     "data": {
      "text/plain": [
       "['cl_TT',\n",
       " 'cl_TE',\n",
       " 'cl_EE',\n",
       " 'cl_BB',\n",
       " 'k',\n",
       " 'scalar_TE',\n",
       " 'scalar_EE',\n",
       " 'scalar_TT',\n",
       " 'cl_pT',\n",
       " 'lensed_EE',\n",
       " 'lensed_BB',\n",
       " 'pk',\n",
       " 'lensed_TT',\n",
       " 'lensed_TE',\n",
       " 'cl_pp']"
      ]
     },
     "execution_count": 6,
     "metadata": {},
     "output_type": "execute_result"
    }
   ],
   "source": [
    "pico.outputs()"
   ]
  },
  {
   "cell_type": "code",
   "execution_count": null,
   "metadata": {},
   "outputs": [],
   "source": []
  }
 ],
 "metadata": {
  "interpreter": {
   "hash": "ec8af8dde5128960800522a773fb85ca0772d21847b14276acd3909d0c6a2a52"
  },
  "kernelspec": {
   "display_name": "Python 3.8.3 ('base')",
   "language": "python",
   "name": "python3"
  },
  "language_info": {
   "codemirror_mode": {
    "name": "ipython",
    "version": 3
   },
   "file_extension": ".py",
   "mimetype": "text/x-python",
   "name": "python",
   "nbconvert_exporter": "python",
   "pygments_lexer": "ipython3",
   "version": "3.8.3"
  },
  "orig_nbformat": 4
 },
 "nbformat": 4,
 "nbformat_minor": 2
}
